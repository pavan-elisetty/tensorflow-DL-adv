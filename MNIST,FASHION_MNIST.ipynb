{
  "nbformat": 4,
  "nbformat_minor": 0,
  "metadata": {
    "colab": {
      "name": "MNIST,FASHION_MNIST.ipynb",
      "provenance": [],
      "authorship_tag": "ABX9TyMAlgocof2oTdSzUW/hl3AU",
      "include_colab_link": true
    },
    "kernelspec": {
      "name": "python3",
      "display_name": "Python 3"
    },
    "language_info": {
      "name": "python"
    },
    "accelerator": "GPU"
  },
  "cells": [
    {
      "cell_type": "markdown",
      "metadata": {
        "id": "view-in-github",
        "colab_type": "text"
      },
      "source": [
        "<a href=\"https://colab.research.google.com/github/pavan-elisetty/tensorflow-DL-adv/blob/master/MNIST%2CFASHION_MNIST.ipynb\" target=\"_parent\"><img src=\"https://colab.research.google.com/assets/colab-badge.svg\" alt=\"Open In Colab\"/></a>"
      ]
    },
    {
      "cell_type": "code",
      "metadata": {
        "id": "EqYnOQOa0r01"
      },
      "source": [
        "import tensorflow as tf\n",
        "import numpy as np\n",
        "import matplotlib.pyplot as plt\n",
        "from tensorflow import keras\n",
        "from keras import callbacks , layers"
      ],
      "execution_count": 1,
      "outputs": []
    },
    {
      "cell_type": "code",
      "metadata": {
        "id": "tZD0TbC90_sp",
        "colab": {
          "base_uri": "https://localhost:8080/"
        },
        "outputId": "819bbf3c-4701-4c82-87cd-e94fddbb5eac"
      },
      "source": [
        "(x_train , y_train ), (x_test , y_test)=keras.datasets.mnist.load_data()"
      ],
      "execution_count": 2,
      "outputs": [
        {
          "output_type": "stream",
          "text": [
            "Downloading data from https://storage.googleapis.com/tensorflow/tf-keras-datasets/mnist.npz\n",
            "11493376/11490434 [==============================] - 0s 0us/step\n"
          ],
          "name": "stdout"
        }
      ]
    },
    {
      "cell_type": "code",
      "metadata": {
        "colab": {
          "base_uri": "https://localhost:8080/"
        },
        "id": "Hy8Fl3MN1TQT",
        "outputId": "474c0b49-94e6-48a7-cead-8ad86c08dcb7"
      },
      "source": [
        "x_train.shape , x_test.shape"
      ],
      "execution_count": 3,
      "outputs": [
        {
          "output_type": "execute_result",
          "data": {
            "text/plain": [
              "((60000, 28, 28), (10000, 28, 28))"
            ]
          },
          "metadata": {
            "tags": []
          },
          "execution_count": 3
        }
      ]
    },
    {
      "cell_type": "code",
      "metadata": {
        "colab": {
          "base_uri": "https://localhost:8080/"
        },
        "id": "rORR5jEd1Zho",
        "outputId": "693293c3-09d2-4cc6-f0f9-437b67e5866b"
      },
      "source": [
        "y_train.shape , y_test.shape"
      ],
      "execution_count": 4,
      "outputs": [
        {
          "output_type": "execute_result",
          "data": {
            "text/plain": [
              "((60000,), (10000,))"
            ]
          },
          "metadata": {
            "tags": []
          },
          "execution_count": 4
        }
      ]
    },
    {
      "cell_type": "code",
      "metadata": {
        "id": "6H1x2kbW3SHS"
      },
      "source": [
        "x_train = x_train.astype(\"float32\") / 255\n",
        "x_test = x_test.astype(\"float32\") / 255"
      ],
      "execution_count": 5,
      "outputs": []
    },
    {
      "cell_type": "code",
      "metadata": {
        "colab": {
          "base_uri": "https://localhost:8080/"
        },
        "id": "UzhZGEiR3j3G",
        "outputId": "f6376ca1-f408-4bba-bfc3-73e233b43eb2"
      },
      "source": [
        "x_train.shape"
      ],
      "execution_count": null,
      "outputs": [
        {
          "output_type": "execute_result",
          "data": {
            "text/plain": [
              "(60000, 28, 28)"
            ]
          },
          "metadata": {
            "tags": []
          },
          "execution_count": 17
        }
      ]
    },
    {
      "cell_type": "code",
      "metadata": {
        "id": "IyEvJHTx3l3J"
      },
      "source": [
        "# Make sure images have shape (28, 28, 1)\n",
        "x_train = np.expand_dims(x_train, -1)\n",
        "x_test = np.expand_dims(x_test, -1)"
      ],
      "execution_count": 6,
      "outputs": []
    },
    {
      "cell_type": "code",
      "metadata": {
        "colab": {
          "base_uri": "https://localhost:8080/"
        },
        "id": "vmx1H6S07-bM",
        "outputId": "04024795-9565-46c8-f953-9a889fc81bb5"
      },
      "source": [
        "x_train.shape"
      ],
      "execution_count": 7,
      "outputs": [
        {
          "output_type": "execute_result",
          "data": {
            "text/plain": [
              "(60000, 28, 28, 1)"
            ]
          },
          "metadata": {
            "tags": []
          },
          "execution_count": 7
        }
      ]
    },
    {
      "cell_type": "code",
      "metadata": {
        "colab": {
          "base_uri": "https://localhost:8080/"
        },
        "id": "uPvpQdqK8sX3",
        "outputId": "570e6efe-4917-4e2d-f8e7-461f831991a7"
      },
      "source": [
        "x_test.shape"
      ],
      "execution_count": 8,
      "outputs": [
        {
          "output_type": "execute_result",
          "data": {
            "text/plain": [
              "(10000, 28, 28, 1)"
            ]
          },
          "metadata": {
            "tags": []
          },
          "execution_count": 8
        }
      ]
    },
    {
      "cell_type": "code",
      "metadata": {
        "id": "smil8PLT9NAc"
      },
      "source": [
        "# convert class vectors to binary class matrices\n",
        "y_train = keras.utils.to_categorical(y_train, 10)\n",
        "y_test = keras.utils.to_categorical(y_test, 10)\n"
      ],
      "execution_count": 9,
      "outputs": []
    },
    {
      "cell_type": "code",
      "metadata": {
        "colab": {
          "base_uri": "https://localhost:8080/"
        },
        "id": "oXEZ2_ev9VuT",
        "outputId": "2b41d2ee-ecc2-46e6-a142-cf2aedc5e557"
      },
      "source": [
        "y_test.shape"
      ],
      "execution_count": 10,
      "outputs": [
        {
          "output_type": "execute_result",
          "data": {
            "text/plain": [
              "(10000, 10)"
            ]
          },
          "metadata": {
            "tags": []
          },
          "execution_count": 10
        }
      ]
    },
    {
      "cell_type": "code",
      "metadata": {
        "id": "YWtFGx483CO7"
      },
      "source": [
        "model = keras.Sequential(\n",
        "    [\n",
        "        layers.InputLayer(input_shape=(28,28,1)),\n",
        "        layers.BatchNormalization(),\n",
        "        layers.Conv2D(32, kernel_size=(3, 3), activation=\"relu\"),\n",
        "        layers.MaxPooling2D(pool_size=(2, 2)),\n",
        "        layers.BatchNormalization(),\n",
        "        layers.Conv2D(64, kernel_size=(3, 3), activation=\"relu\"),\n",
        "        layers.MaxPooling2D(pool_size=(2, 2)),\n",
        "        layers.Flatten(),\n",
        "        layers.Dropout(0.5),\n",
        "        layers.Dense(10, activation=\"softmax\"),\n",
        "    ]\n",
        ")\n"
      ],
      "execution_count": 19,
      "outputs": []
    },
    {
      "cell_type": "code",
      "metadata": {
        "id": "utw3PmYq2Z36"
      },
      "source": [
        "model.compile(\n",
        "    optimizer='adam',\n",
        "    loss='categorical_crossentropy',\n",
        "    metrics=[\"accuracy\"]\n",
        ")"
      ],
      "execution_count": 21,
      "outputs": []
    },
    {
      "cell_type": "code",
      "metadata": {
        "colab": {
          "base_uri": "https://localhost:8080/"
        },
        "id": "lUrthQD68lOC",
        "outputId": "5264b2b7-e1c3-47ac-8046-370f56bd0fb6"
      },
      "source": [
        "model"
      ],
      "execution_count": null,
      "outputs": [
        {
          "output_type": "execute_result",
          "data": {
            "text/plain": [
              "<tensorflow.python.keras.engine.sequential.Sequential at 0x7f89205d24d0>"
            ]
          },
          "metadata": {
            "tags": []
          },
          "execution_count": 32
        }
      ]
    },
    {
      "cell_type": "code",
      "metadata": {
        "id": "1u71gDof22O0",
        "colab": {
          "base_uri": "https://localhost:8080/"
        },
        "outputId": "67763398-ca59-4bca-ac11-484f520c031d"
      },
      "source": [
        "history = model.fit(\n",
        "    x_train , y_train,\n",
        "    validation_data =(x_test,y_test),\n",
        "    epochs=15,\n",
        "    batch_size=256,\n",
        ")"
      ],
      "execution_count": 22,
      "outputs": [
        {
          "output_type": "stream",
          "text": [
            "Epoch 1/15\n",
            "235/235 [==============================] - 3s 9ms/step - loss: 0.3508 - accuracy: 0.8904 - val_loss: 0.6066 - val_accuracy: 0.9696\n",
            "Epoch 2/15\n",
            "235/235 [==============================] - 2s 8ms/step - loss: 0.1029 - accuracy: 0.9680 - val_loss: 0.0661 - val_accuracy: 0.9835\n",
            "Epoch 3/15\n",
            "235/235 [==============================] - 2s 8ms/step - loss: 0.0750 - accuracy: 0.9759 - val_loss: 0.0414 - val_accuracy: 0.9861\n",
            "Epoch 4/15\n",
            "235/235 [==============================] - 2s 8ms/step - loss: 0.0601 - accuracy: 0.9814 - val_loss: 0.0388 - val_accuracy: 0.9875\n",
            "Epoch 5/15\n",
            "235/235 [==============================] - 2s 8ms/step - loss: 0.0538 - accuracy: 0.9827 - val_loss: 0.0316 - val_accuracy: 0.9896\n",
            "Epoch 6/15\n",
            "235/235 [==============================] - 2s 8ms/step - loss: 0.0457 - accuracy: 0.9857 - val_loss: 0.0310 - val_accuracy: 0.9889\n",
            "Epoch 7/15\n",
            "235/235 [==============================] - 2s 8ms/step - loss: 0.0423 - accuracy: 0.9866 - val_loss: 0.0292 - val_accuracy: 0.9893\n",
            "Epoch 8/15\n",
            "235/235 [==============================] - 2s 8ms/step - loss: 0.0382 - accuracy: 0.9874 - val_loss: 0.0274 - val_accuracy: 0.9906\n",
            "Epoch 9/15\n",
            "235/235 [==============================] - 2s 8ms/step - loss: 0.0356 - accuracy: 0.9885 - val_loss: 0.0254 - val_accuracy: 0.9920\n",
            "Epoch 10/15\n",
            "235/235 [==============================] - 2s 8ms/step - loss: 0.0338 - accuracy: 0.9891 - val_loss: 0.0246 - val_accuracy: 0.9919\n",
            "Epoch 11/15\n",
            "235/235 [==============================] - 2s 8ms/step - loss: 0.0327 - accuracy: 0.9891 - val_loss: 0.0287 - val_accuracy: 0.9907\n",
            "Epoch 12/15\n",
            "235/235 [==============================] - 2s 8ms/step - loss: 0.0304 - accuracy: 0.9901 - val_loss: 0.0264 - val_accuracy: 0.9911\n",
            "Epoch 13/15\n",
            "235/235 [==============================] - 2s 8ms/step - loss: 0.0302 - accuracy: 0.9901 - val_loss: 0.0290 - val_accuracy: 0.9906\n",
            "Epoch 14/15\n",
            "235/235 [==============================] - 2s 8ms/step - loss: 0.0272 - accuracy: 0.9909 - val_loss: 0.0246 - val_accuracy: 0.9919\n",
            "Epoch 15/15\n",
            "235/235 [==============================] - 2s 8ms/step - loss: 0.0260 - accuracy: 0.9917 - val_loss: 0.0240 - val_accuracy: 0.9913\n"
          ],
          "name": "stdout"
        }
      ]
    },
    {
      "cell_type": "code",
      "metadata": {
        "id": "Nc4cuEyQ-6G1",
        "colab": {
          "base_uri": "https://localhost:8080/",
          "height": 282
        },
        "outputId": "272fb6d0-af09-48ba-b53b-2d952ccad12b"
      },
      "source": [
        "import pandas as pd\n",
        "history=pd.DataFrame(history.history)\n",
        "history.plot()"
      ],
      "execution_count": 26,
      "outputs": [
        {
          "output_type": "execute_result",
          "data": {
            "text/plain": [
              "<matplotlib.axes._subplots.AxesSubplot at 0x7f33ee393950>"
            ]
          },
          "metadata": {
            "tags": []
          },
          "execution_count": 26
        },
        {
          "output_type": "display_data",
          "data": {
            "image/png": "[encoded data removed]",
            "text/plain": [
              "<Figure size 432x288 with 1 Axes>"
            ]
          },
          "metadata": {
            "tags": [],
            "needs_background": "light"
          }
        }
      ]
    },
    {
      "cell_type": "code",
      "metadata": {
        "colab": {
          "base_uri": "https://localhost:8080/"
        },
        "id": "b4DnO59ip8VX",
        "outputId": "22927403-7d53-4abd-ebf8-620c4a6826a5"
      },
      "source": [
        "(data_train ,target_train),(data_valid,target_valid)= keras.datasets.fashion_mnist.load_data()"
      ],
      "execution_count": 30,
      "outputs": [
        {
          "output_type": "stream",
          "text": [
            "Downloading data from https://storage.googleapis.com/tensorflow/tf-keras-datasets/train-labels-idx1-ubyte.gz\n",
            "32768/29515 [=================================] - 0s 0us/step\n",
            "Downloading data from https://storage.googleapis.com/tensorflow/tf-keras-datasets/train-images-idx3-ubyte.gz\n",
            "26427392/26421880 [==============================] - 0s 0us/step\n",
            "Downloading data from https://storage.googleapis.com/tensorflow/tf-keras-datasets/t10k-labels-idx1-ubyte.gz\n",
            "8192/5148 [===============================================] - 0s 0us/step\n",
            "Downloading data from https://storage.googleapis.com/tensorflow/tf-keras-datasets/t10k-images-idx3-ubyte.gz\n",
            "4423680/4422102 [==============================] - 0s 0us/step\n"
          ],
          "name": "stdout"
        }
      ]
    },
    {
      "cell_type": "code",
      "metadata": {
        "colab": {
          "base_uri": "https://localhost:8080/"
        },
        "id": "89tkksllq2b_",
        "outputId": "04fe0140-b284-4807-f606-3cfddb8119a6"
      },
      "source": [
        "data_train.shape , target_train.shape , data_valid.shape"
      ],
      "execution_count": 31,
      "outputs": [
        {
          "output_type": "execute_result",
          "data": {
            "text/plain": [
              "((60000, 28, 28), (60000,), (10000, 28, 28))"
            ]
          },
          "metadata": {
            "tags": []
          },
          "execution_count": 31
        }
      ]
    },
    {
      "cell_type": "code",
      "metadata": {
        "id": "8rJAkWFkrNdw"
      },
      "source": [
        "data_train = data_train.astype(float)"
      ],
      "execution_count": 33,
      "outputs": []
    },
    {
      "cell_type": "code",
      "metadata": {
        "id": "HjVOD5XIrbRi"
      },
      "source": [
        "data_valid = data_valid.astype(float)"
      ],
      "execution_count": 34,
      "outputs": []
    },
    {
      "cell_type": "code",
      "metadata": {
        "id": "p7kAHSSArj9j"
      },
      "source": [
        "data_train = data_train/255\n",
        "data_valid = data_valid/255"
      ],
      "execution_count": 36,
      "outputs": []
    },
    {
      "cell_type": "code",
      "metadata": {
        "colab": {
          "base_uri": "https://localhost:8080/"
        },
        "id": "8-Sa-yRgrnTX",
        "outputId": "84dd6436-113e-4a36-d20f-fef317feec7d"
      },
      "source": [
        "data_train.shape , target_train.shape , data_valid.shape"
      ],
      "execution_count": 37,
      "outputs": [
        {
          "output_type": "execute_result",
          "data": {
            "text/plain": [
              "((60000, 28, 28), (60000,), (10000, 28, 28))"
            ]
          },
          "metadata": {
            "tags": []
          },
          "execution_count": 37
        }
      ]
    },
    {
      "cell_type": "code",
      "metadata": {
        "colab": {
          "base_uri": "https://localhost:8080/"
        },
        "id": "IYE47f0Ir3jx",
        "outputId": "53f330b8-8cc1-468b-e351-a7347ac4dfba"
      },
      "source": [
        "data_train=np.expand_dims(data_train , axis=-1)\n",
        "data_valid=np.expand_dims(data_valid , axis=-1)\n",
        "data_train.shape , target_train.shape , data_valid.shape"
      ],
      "execution_count": 38,
      "outputs": [
        {
          "output_type": "execute_result",
          "data": {
            "text/plain": [
              "((60000, 28, 28, 1), (60000,), (10000, 28, 28, 1))"
            ]
          },
          "metadata": {
            "tags": []
          },
          "execution_count": 38
        }
      ]
    },
    {
      "cell_type": "code",
      "metadata": {
        "id": "6SToIrpfsEMN"
      },
      "source": [
        "target_train = keras.utils.to_categorical(target_train , num_classes=10 , dtype='float32')\n",
        "target_valid = keras.utils.to_categorical(target_valid , num_classes=10 , dtype='float32')"
      ],
      "execution_count": 39,
      "outputs": []
    },
    {
      "cell_type": "code",
      "metadata": {
        "colab": {
          "base_uri": "https://localhost:8080/"
        },
        "id": "Hv-OuFk3sZ86",
        "outputId": "92ba012c-cf10-4f67-c449-cbf0a038614b"
      },
      "source": [
        "data_train.shape , target_train.shape , data_valid.shape"
      ],
      "execution_count": 40,
      "outputs": [
        {
          "output_type": "execute_result",
          "data": {
            "text/plain": [
              "((60000, 28, 28, 1), (60000, 10), (10000, 28, 28, 1))"
            ]
          },
          "metadata": {
            "tags": []
          },
          "execution_count": 40
        }
      ]
    },
    {
      "cell_type": "code",
      "metadata": {
        "id": "ASrpVMh-scqd"
      },
      "source": [
        "import tensorflow\n",
        "model2 = tensorflow.keras.Sequential([\n",
        "                          layers.InputLayer(input_shape=(28,28,1)),\n",
        "                          layers.Conv2D(32,kernel_size=(3,3),padding='same',activation='relu'),\n",
        "                          layers.MaxPool2D(pool_size=(2,2)),\n",
        "                          layers.Conv2D(64,kernel_size=(3,3),padding='same',activation='relu'),\n",
        "                          layers.MaxPool2D(pool_size=(2,2)),\n",
        "                          layers.Flatten(),\n",
        "                          layers.Dropout(0.5),\n",
        "                          layers.Dense(10,activation='softmax')\n",
        "])\n"
      ],
      "execution_count": 47,
      "outputs": []
    },
    {
      "cell_type": "code",
      "metadata": {
        "id": "bwBPoe8AuptJ"
      },
      "source": [
        "model2.compile(\n",
        "    optimizer='adam',\n",
        "    loss='categorical_crossentropy',\n",
        "    metrics=[\"accuracy\"]\n",
        ")"
      ],
      "execution_count": 51,
      "outputs": []
    },
    {
      "cell_type": "code",
      "metadata": {
        "colab": {
          "base_uri": "https://localhost:8080/"
        },
        "id": "j6yHGCeiu2Pj",
        "outputId": "68a933de-5c6a-48af-c64b-7cbeb41bb472"
      },
      "source": [
        "history2=model2.fit(\n",
        "    data_train,target_train,\n",
        "    validation_data=(data_valid,target_valid),\n",
        "    epochs=15,\n",
        "    batch_size=126\n",
        ")"
      ],
      "execution_count": 52,
      "outputs": [
        {
          "output_type": "stream",
          "text": [
            "Epoch 1/15\n",
            "477/477 [==============================] - 3s 6ms/step - loss: 0.5866 - accuracy: 0.7893 - val_loss: 0.4089 - val_accuracy: 0.8557\n",
            "Epoch 2/15\n",
            "477/477 [==============================] - 3s 5ms/step - loss: 0.3950 - accuracy: 0.8593 - val_loss: 0.3576 - val_accuracy: 0.8728\n",
            "Epoch 3/15\n",
            "477/477 [==============================] - 2s 5ms/step - loss: 0.3507 - accuracy: 0.8768 - val_loss: 0.3386 - val_accuracy: 0.8844\n",
            "Epoch 4/15\n",
            "477/477 [==============================] - 3s 5ms/step - loss: 0.3254 - accuracy: 0.8840 - val_loss: 0.3035 - val_accuracy: 0.8953\n",
            "Epoch 5/15\n",
            "477/477 [==============================] - 2s 5ms/step - loss: 0.3100 - accuracy: 0.8885 - val_loss: 0.3062 - val_accuracy: 0.8877\n",
            "Epoch 6/15\n",
            "477/477 [==============================] - 3s 5ms/step - loss: 0.2910 - accuracy: 0.8961 - val_loss: 0.2867 - val_accuracy: 0.8988\n",
            "Epoch 7/15\n",
            "477/477 [==============================] - 2s 5ms/step - loss: 0.2779 - accuracy: 0.9018 - val_loss: 0.2804 - val_accuracy: 0.9014\n",
            "Epoch 8/15\n",
            "477/477 [==============================] - 2s 5ms/step - loss: 0.2691 - accuracy: 0.9036 - val_loss: 0.2724 - val_accuracy: 0.9026\n",
            "Epoch 9/15\n",
            "477/477 [==============================] - 3s 5ms/step - loss: 0.2619 - accuracy: 0.9066 - val_loss: 0.2723 - val_accuracy: 0.9028\n",
            "Epoch 10/15\n",
            "477/477 [==============================] - 2s 5ms/step - loss: 0.2519 - accuracy: 0.9097 - val_loss: 0.2574 - val_accuracy: 0.9080\n",
            "Epoch 11/15\n",
            "477/477 [==============================] - 2s 5ms/step - loss: 0.2482 - accuracy: 0.9105 - val_loss: 0.2672 - val_accuracy: 0.9046\n",
            "Epoch 12/15\n",
            "477/477 [==============================] - 3s 5ms/step - loss: 0.2408 - accuracy: 0.9126 - val_loss: 0.2473 - val_accuracy: 0.9112\n",
            "Epoch 13/15\n",
            "477/477 [==============================] - 2s 5ms/step - loss: 0.2335 - accuracy: 0.9147 - val_loss: 0.2610 - val_accuracy: 0.9065\n",
            "Epoch 14/15\n",
            "477/477 [==============================] - 2s 5ms/step - loss: 0.2309 - accuracy: 0.9168 - val_loss: 0.2566 - val_accuracy: 0.9081\n",
            "Epoch 15/15\n",
            "477/477 [==============================] - 3s 5ms/step - loss: 0.2264 - accuracy: 0.9185 - val_loss: 0.2386 - val_accuracy: 0.9145\n"
          ],
          "name": "stdout"
        }
      ]
    },
    {
      "cell_type": "code",
      "metadata": {
        "colab": {
          "base_uri": "https://localhost:8080/"
        },
        "id": "maF8HBb-vHRX",
        "outputId": "f5d27ac9-1453-442d-bc99-33f186f1735c"
      },
      "source": [
        "model2.summary()"
      ],
      "execution_count": 53,
      "outputs": [
        {
          "output_type": "stream",
          "text": [
            "Model: \"sequential_7\"\n",
            "_________________________________________________________________\n",
            "Layer (type)                 Output Shape              Param #   \n",
            "=================================================================\n",
            "module_wrapper_61 (ModuleWra (28, 28, 1)               0         \n",
            "_________________________________________________________________\n",
            "module_wrapper_62 (ModuleWra multiple                  320       \n",
            "_________________________________________________________________\n",
            "module_wrapper_63 (ModuleWra multiple                  0         \n",
            "_________________________________________________________________\n",
            "module_wrapper_64 (ModuleWra multiple                  18496     \n",
            "_________________________________________________________________\n",
            "module_wrapper_65 (ModuleWra multiple                  0         \n",
            "_________________________________________________________________\n",
            "module_wrapper_66 (ModuleWra multiple                  0         \n",
            "_________________________________________________________________\n",
            "module_wrapper_67 (ModuleWra multiple                  0         \n",
            "_________________________________________________________________\n",
            "module_wrapper_68 (ModuleWra multiple                  31370     \n",
            "=================================================================\n",
            "Total params: 50,186\n",
            "Trainable params: 50,186\n",
            "Non-trainable params: 0\n",
            "_________________________________________________________________\n"
          ],
          "name": "stdout"
        }
      ]
    },
    {
      "cell_type": "code",
      "metadata": {
        "colab": {
          "base_uri": "https://localhost:8080/",
          "height": 282
        },
        "id": "mByMV1NFvS0z",
        "outputId": "ee5fa8a6-b0e6-4a3d-8f1d-fc832a8e329e"
      },
      "source": [
        "history2=pd.DataFrame(history2.history)\n",
        "history2.plot()"
      ],
      "execution_count": 54,
      "outputs": [
        {
          "output_type": "execute_result",
          "data": {
            "text/plain": [
              "<matplotlib.axes._subplots.AxesSubplot at 0x7f335ebcc510>"
            ]
          },
          "metadata": {
            "tags": []
          },
          "execution_count": 54
        },
        {
          "output_type": "display_data",
          "data": {
            "image/png": "[encoded data removed]",
            "text/plain": [
              "<Figure size 432x288 with 1 Axes>"
            ]
          },
          "metadata": {
            "tags": [],
            "needs_background": "light"
          }
        }
      ]
    },
    {
      "cell_type": "code",
      "metadata": {
        "id": "5ib9kNcNvdgb"
      },
      "source": [
        ""
      ],
      "execution_count": null,
      "outputs": []
    }
  ]
}